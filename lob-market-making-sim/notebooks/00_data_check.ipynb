{
 "cells": [
  {
   "cell_type": "markdown",
   "id": "4ded490f",
   "metadata": {},
   "source": [
    "# 00: Data Check"
   ]
  },
  {
   "cell_type": "markdown",
   "id": "74871786",
   "metadata": {},
   "source": [
    "## Import message data\n",
    "See valid types (enforced in `schema.py`) and data is correctly imported by `loader.py`"
   ]
  },
  {
   "cell_type": "code",
   "execution_count": null,
   "id": "9282f58f",
   "metadata": {
    "tags": []
   },
   "outputs": [
    {
     "data": {
      "text/plain": [
       "pyarrow.Table\n",
       "time: double\n",
       "event_type: int32\n",
       "order_id: int64\n",
       "size: int64\n",
       "price: int64\n",
       "direction: int64\n",
       "----\n",
       "time: [[34200.017459617,34200.18960767,34200.190226476,34200.190226476,34200.372779672,...,44679.389309878,44679.389496864,44679.434999443,44679.434999443,44679.434999443],[44679.434999443,44679.435226668,44679.435252045,44679.435313602,44679.435573179,...,56101.791152281,56101.791235791,56101.791368644,56101.79151694,56101.792020466],[56101.832763457,56101.832856591,56101.832886807,56101.832993291,56102.297849832,...,57599.545827862,57599.545827862,57599.903989046,57599.958244616,57599.95935965]]\n",
       "event_type: [[5,1,4,4,5,...,3,4,4,4,4],[4,3,1,1,1,...,1,3,3,4,3],[4,1,3,1,4,...,4,4,3,1,3]]\n",
       "order_id: [[0,11885113,11885113,11534792,0,...,150185893,150185895,150139228,150088234,150181118],[150134397,150134397,150186473,150186474,150186478,...,260881461,260786048,260848394,260881461,260846676],[260881461,260881806,260853864,260881809,260881461,...,282917222,286916542,287142900,287174077,287174077]]\n",
       "size: [[1,21,21,26,100,...,100,100,20,16,10],[54,46,100,3,100,...,200,100,14,67,18],[75,100,100,200,58,...,9,51,100,100,100]]\n",
       "price: [[2238200,2238100,2238100,2237500,2238400,...,2228800,2228800,2228700,2228600,2228600],[2228500,2228500,2228300,2228400,2228400,...,2206800,2207300,2207300,2206800,2207300],[2206800,2207300,2207300,2206800,2206800,...,2205100,2205100,2206200,2206300,2206300]]\n",
       "direction: [[-1,1,1,1,-1,...,1,1,1,1,1],[1,1,1,1,1,...,1,-1,-1,1,-1],[1,-1,-1,1,1,...,1,1,-1,-1,-1]]"
      ]
     },
     "execution_count": 1,
     "metadata": {},
     "output_type": "execute_result"
    }
   ],
   "source": [
    "import lob_market_making_sim.io.loader as loader\n",
    "pa_event_table = loader.lobster_to_arrow('../data/AMZN_2012-06-21_34200000_57600000_message_1.csv')\n",
    "pa_event_table\n",
    "len(pa_event_table)"
   ]
  },
  {
   "cell_type": "markdown",
   "id": "bb402150",
   "metadata": {},
   "source": [
    "## Convert message data to OrderEvent\n",
    "Ensure that data from Pyarrow table is correctly loaded into `Iterable[OrderEvent]`"
   ]
  },
  {
   "cell_type": "code",
   "execution_count": 2,
   "id": "56280f90",
   "metadata": {},
   "outputs": [],
   "source": [
    "order_events = loader.arrow_to_events(pa_event_table)"
   ]
  },
  {
   "cell_type": "markdown",
   "id": "86ae43cf",
   "metadata": {},
   "source": [
    "## Generate Parquet file from data"
   ]
  },
  {
   "cell_type": "code",
   "execution_count": 3,
   "id": "f1d46774",
   "metadata": {},
   "outputs": [
    {
     "data": {
      "text/plain": [
       "PosixPath('data/parquet/AMZN_2025-06-12.parquet')"
      ]
     },
     "execution_count": 3,
     "metadata": {},
     "output_type": "execute_result"
    }
   ],
   "source": [
    "from lob_market_making_sim.io.store import ArrowStore\n",
    "import lob_market_making_sim.io.schema as schema\n",
    "my_arrow_store = ArrowStore(schema.COL_SCHEMA)\n",
    "my_arrow_store.add_batch(pa_event_table)\n",
    "my_arrow_store.flush('data/parquet/AMZN_2025-06-12.parquet')"
   ]
  },
  {
   "cell_type": "markdown",
   "id": "bfa4b58b",
   "metadata": {},
   "source": [
    "## Load Parquet, plot first 100 mid-prices, confirm timestamps monotone."
   ]
  },
  {
   "cell_type": "code",
   "execution_count": 6,
   "id": "a91cd25b",
   "metadata": {},
   "outputs": [
    {
     "data": {
      "text/html": [
       "<div>\n",
       "<style scoped>\n",
       "    .dataframe tbody tr th:only-of-type {\n",
       "        vertical-align: middle;\n",
       "    }\n",
       "\n",
       "    .dataframe tbody tr th {\n",
       "        vertical-align: top;\n",
       "    }\n",
       "\n",
       "    .dataframe thead th {\n",
       "        text-align: right;\n",
       "    }\n",
       "</style>\n",
       "<table border=\"1\" class=\"dataframe\">\n",
       "  <thead>\n",
       "    <tr style=\"text-align: right;\">\n",
       "      <th></th>\n",
       "      <th>time</th>\n",
       "      <th>event_type</th>\n",
       "      <th>order_id</th>\n",
       "      <th>size</th>\n",
       "      <th>price</th>\n",
       "      <th>direction</th>\n",
       "    </tr>\n",
       "  </thead>\n",
       "  <tbody>\n",
       "    <tr>\n",
       "      <th>0</th>\n",
       "      <td>34200.017460</td>\n",
       "      <td>5</td>\n",
       "      <td>0</td>\n",
       "      <td>1</td>\n",
       "      <td>2238200</td>\n",
       "      <td>-1</td>\n",
       "    </tr>\n",
       "    <tr>\n",
       "      <th>1</th>\n",
       "      <td>34200.189608</td>\n",
       "      <td>1</td>\n",
       "      <td>11885113</td>\n",
       "      <td>21</td>\n",
       "      <td>2238100</td>\n",
       "      <td>1</td>\n",
       "    </tr>\n",
       "    <tr>\n",
       "      <th>2</th>\n",
       "      <td>34200.190226</td>\n",
       "      <td>4</td>\n",
       "      <td>11885113</td>\n",
       "      <td>21</td>\n",
       "      <td>2238100</td>\n",
       "      <td>1</td>\n",
       "    </tr>\n",
       "    <tr>\n",
       "      <th>3</th>\n",
       "      <td>34200.190226</td>\n",
       "      <td>4</td>\n",
       "      <td>11534792</td>\n",
       "      <td>26</td>\n",
       "      <td>2237500</td>\n",
       "      <td>1</td>\n",
       "    </tr>\n",
       "    <tr>\n",
       "      <th>4</th>\n",
       "      <td>34200.372780</td>\n",
       "      <td>5</td>\n",
       "      <td>0</td>\n",
       "      <td>100</td>\n",
       "      <td>2238400</td>\n",
       "      <td>-1</td>\n",
       "    </tr>\n",
       "    <tr>\n",
       "      <th>...</th>\n",
       "      <td>...</td>\n",
       "      <td>...</td>\n",
       "      <td>...</td>\n",
       "      <td>...</td>\n",
       "      <td>...</td>\n",
       "      <td>...</td>\n",
       "    </tr>\n",
       "    <tr>\n",
       "      <th>57510</th>\n",
       "      <td>57599.545828</td>\n",
       "      <td>4</td>\n",
       "      <td>282917222</td>\n",
       "      <td>9</td>\n",
       "      <td>2205100</td>\n",
       "      <td>1</td>\n",
       "    </tr>\n",
       "    <tr>\n",
       "      <th>57511</th>\n",
       "      <td>57599.545828</td>\n",
       "      <td>4</td>\n",
       "      <td>286916542</td>\n",
       "      <td>51</td>\n",
       "      <td>2205100</td>\n",
       "      <td>1</td>\n",
       "    </tr>\n",
       "    <tr>\n",
       "      <th>57512</th>\n",
       "      <td>57599.903989</td>\n",
       "      <td>3</td>\n",
       "      <td>287142900</td>\n",
       "      <td>100</td>\n",
       "      <td>2206200</td>\n",
       "      <td>-1</td>\n",
       "    </tr>\n",
       "    <tr>\n",
       "      <th>57513</th>\n",
       "      <td>57599.958245</td>\n",
       "      <td>1</td>\n",
       "      <td>287174077</td>\n",
       "      <td>100</td>\n",
       "      <td>2206300</td>\n",
       "      <td>-1</td>\n",
       "    </tr>\n",
       "    <tr>\n",
       "      <th>57514</th>\n",
       "      <td>57599.959360</td>\n",
       "      <td>3</td>\n",
       "      <td>287174077</td>\n",
       "      <td>100</td>\n",
       "      <td>2206300</td>\n",
       "      <td>-1</td>\n",
       "    </tr>\n",
       "  </tbody>\n",
       "</table>\n",
       "<p>57515 rows × 6 columns</p>\n",
       "</div>"
      ],
      "text/plain": [
       "               time  event_type   order_id  size    price  direction\n",
       "0      34200.017460           5          0     1  2238200         -1\n",
       "1      34200.189608           1   11885113    21  2238100          1\n",
       "2      34200.190226           4   11885113    21  2238100          1\n",
       "3      34200.190226           4   11534792    26  2237500          1\n",
       "4      34200.372780           5          0   100  2238400         -1\n",
       "...             ...         ...        ...   ...      ...        ...\n",
       "57510  57599.545828           4  282917222     9  2205100          1\n",
       "57511  57599.545828           4  286916542    51  2205100          1\n",
       "57512  57599.903989           3  287142900   100  2206200         -1\n",
       "57513  57599.958245           1  287174077   100  2206300         -1\n",
       "57514  57599.959360           3  287174077   100  2206300         -1\n",
       "\n",
       "[57515 rows x 6 columns]"
      ]
     },
     "execution_count": 6,
     "metadata": {},
     "output_type": "execute_result"
    }
   ],
   "source": [
    "import pandas as pd\n",
    "df = pd.read_parquet('data/parquet/AMZN_2025-06-12.parquet')\n",
    "df"
   ]
  },
  {
   "cell_type": "code",
   "execution_count": null,
   "id": "3c05d619",
   "metadata": {},
   "outputs": [
    {
     "data": {
      "text/plain": [
       "[<matplotlib.lines.Line2D at 0x12d50ae90>]"
      ]
     },
     "execution_count": 8,
     "metadata": {},
     "output_type": "execute_result"
    },
    {
     "data": {
      "image/png": "[encoded data removed]",
      "text/plain": [
       "<Figure size 640x480 with 1 Axes>"
      ]
     },
     "metadata": {},
     "output_type": "display_data"
    }
   ],
   "source": [
    "import matplotlib.pyplot as plt\n",
    "plt.plot(df['time']) # To check that timestamps are monotone"
   ]
  }
 ],
 "metadata": {
  "kernelspec": {
   "display_name": ".venv",
   "language": "python",
   "name": "python3"
  },
  "language_info": {
   "codemirror_mode": {
    "name": "ipython",
    "version": 3
   },
   "file_extension": ".py",
   "mimetype": "text/x-python",
   "name": "python",
   "nbconvert_exporter": "python",
   "pygments_lexer": "ipython3",
   "version": "3.11.4"
  }
 },
 "nbformat": 4,
 "nbformat_minor": 5
}
