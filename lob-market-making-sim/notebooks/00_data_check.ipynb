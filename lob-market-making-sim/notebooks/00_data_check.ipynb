{
 "cells": [
  {
   "cell_type": "markdown",
   "id": "4ded490f",
   "metadata": {},
   "source": [
    "# 00: Data Check"
   ]
  },
  {
   "cell_type": "markdown",
   "id": "74871786",
   "metadata": {},
   "source": [
    "## Import message data\n",
    "See valid types (enforced in `schema.py`) and data is correctly imported by `loader.py`"
   ]
  },
  {
   "cell_type": "code",
   "execution_count": 5,
   "id": "9282f58f",
   "metadata": {
    "tags": []
   },
   "outputs": [
    {
     "data": {
      "text/plain": [
       "pyarrow.Table\n",
       "time: double\n",
       "event_type: int32\n",
       "order_id: int64\n",
       "size: int64\n",
       "price: int64\n",
       "direction: int64\n",
       "----\n",
       "time: [[34200.017459617,34200.18960767,34200.190226476,34200.190226476,34200.372779672,...,44679.389309878,44679.389496864,44679.434999443,44679.434999443,44679.434999443],[44679.434999443,44679.435226668,44679.435252045,44679.435313602,44679.435573179,...,56101.791152281,56101.791235791,56101.791368644,56101.79151694,56101.792020466],[56101.832763457,56101.832856591,56101.832886807,56101.832993291,56102.297849832,...,57599.545827862,57599.545827862,57599.903989046,57599.958244616,57599.95935965]]\n",
       "event_type: [[5,1,4,4,5,...,3,4,4,4,4],[4,3,1,1,1,...,1,3,3,4,3],[4,1,3,1,4,...,4,4,3,1,3]]\n",
       "order_id: [[0,11885113,11885113,11534792,0,...,150185893,150185895,150139228,150088234,150181118],[150134397,150134397,150186473,150186474,150186478,...,260881461,260786048,260848394,260881461,260846676],[260881461,260881806,260853864,260881809,260881461,...,282917222,286916542,287142900,287174077,287174077]]\n",
       "size: [[1,21,21,26,100,...,100,100,20,16,10],[54,46,100,3,100,...,200,100,14,67,18],[75,100,100,200,58,...,9,51,100,100,100]]\n",
       "price: [[2238200,2238100,2238100,2237500,2238400,...,2228800,2228800,2228700,2228600,2228600],[2228500,2228500,2228300,2228400,2228400,...,2206800,2207300,2207300,2206800,2207300],[2206800,2207300,2207300,2206800,2206800,...,2205100,2205100,2206200,2206300,2206300]]\n",
       "direction: [[-1,1,1,1,-1,...,1,1,1,1,1],[1,1,1,1,1,...,1,-1,-1,1,-1],[1,-1,-1,1,1,...,1,1,-1,-1,-1]]"
      ]
     },
     "execution_count": 5,
     "metadata": {},
     "output_type": "execute_result"
    }
   ],
   "source": [
    "import lob_market_making_sim.io.loader as loader\n",
    "pa_event_table = loader.lobster_to_arrow('../data/AMZN_2012-06-21_34200000_57600000_message_1.csv')\n",
    "pa_event_table"
   ]
  },
  {
   "cell_type": "markdown",
   "id": "bb402150",
   "metadata": {},
   "source": [
    "## Convert message data to OrderEvent\n",
    "Ensure that data from Pyarrow table is correctly loaded into `Iterable[OrderEvent]`"
   ]
  },
  {
   "cell_type": "code",
   "execution_count": null,
   "id": "56280f90",
   "metadata": {},
   "outputs": [],
   "source": [
    "order_events = loader.arrow_to_events(pa_event_table)"
   ]
  }
 ],
 "metadata": {
  "kernelspec": {
   "display_name": "lob-market-making-sim-6znJD84k-py3.11",
   "language": "python",
   "name": "python3"
  },
  "language_info": {
   "codemirror_mode": {
    "name": "ipython",
    "version": 3
   },
   "file_extension": ".py",
   "mimetype": "text/x-python",
   "name": "python",
   "nbconvert_exporter": "python",
   "pygments_lexer": "ipython3",
   "version": "3.11.4"
  }
 },
 "nbformat": 4,
 "nbformat_minor": 5
}
