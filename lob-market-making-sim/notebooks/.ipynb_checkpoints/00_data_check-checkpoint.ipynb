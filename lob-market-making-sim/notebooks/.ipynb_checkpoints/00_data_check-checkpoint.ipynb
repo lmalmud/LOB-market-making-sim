{
 "cells": [
  {
   "cell_type": "markdown",
   "id": "4ded490f",
   "metadata": {},
   "source": [
    "# 00: Data Check"
   ]
  },
  {
   "cell_type": "markdown",
   "id": "74871786",
   "metadata": {},
   "source": [
    "## Import message data\n",
    "See valid types (enforced in `schema.py`) and data is correctly imported by `loader.py`"
   ]
  },
  {
   "cell_type": "code",
   "execution_count": null,
   "id": "9282f58f",
   "metadata": {},
   "outputs": [],
   "source": [
    "from lob_market_making_sim.io.loader import lobster_to_arrow\n",
    "pa_event_table = loader.lobster_to_arrow('../data/AMZN_2012-06-21_34200000_57600000_message_1.csv')"
   ]
  },
  {
   "cell_type": "markdown",
   "id": "bb402150",
   "metadata": {},
   "source": [
    "## Convert message data to OrderEvent\n",
    "Ensure that data from Pyarrow table is correctly loaded into `Iterable[OrderEvent]`"
   ]
  },
  {
   "cell_type": "code",
   "execution_count": null,
   "id": "56280f90",
   "metadata": {},
   "outputs": [],
   "source": [
    "order_events = loader.arrow_to_events(pa_event_table)"
   ]
  }
 ],
 "metadata": {
  "kernelspec": {
   "display_name": "Python 3",
   "language": "python",
   "name": "python3"
  },
  "language_info": {
   "codemirror_mode": {
    "name": "ipython",
    "version": 3
   },
   "file_extension": ".py",
   "mimetype": "text/x-python",
   "name": "python",
   "nbconvert_exporter": "python",
   "pygments_lexer": "ipython3",
   "version": "3.11.2"
  }
 },
 "nbformat": 4,
 "nbformat_minor": 5
}
